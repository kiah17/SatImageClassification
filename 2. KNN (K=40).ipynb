{
 "cells": [
  {
   "cell_type": "code",
   "execution_count": 1,
   "metadata": {
    "collapsed": true
   },
   "outputs": [],
   "source": [
    "import json\n",
    "import matplotlib.pyplot as plt\n",
    "import numpy as np \n",
    "import pickle\n",
    "import PIL.Image\n",
    "\n",
    "import matplotlib.image as mpimg\n",
    "import skimage.io\n",
    "from skimage.filters import threshold_otsu\n",
    "from skimage.segmentation import clear_border\n",
    "from skimage.measure import label, regionprops\n",
    "from skimage.morphology import closing, square\n",
    "from skimage.color import label2rgb\n",
    "from skimage.transform import resize\n",
    "import matplotlib.patches as mpatches\n",
    "from skimage import data\n",
    "import skimage\n",
    "from skimage.transform import rotate\n",
    "\n",
    "import matplotlib as mpl\n",
    "from mpl_toolkits.mplot3d import Axes3D\n",
    "from matplotlib import cm\n",
    "from matplotlib.ticker import LinearLocator, FormatStrFormatter"
   ]
  },
  {
   "cell_type": "code",
   "execution_count": 2,
   "metadata": {},
   "outputs": [
    {
     "name": "stdout",
     "output_type": "stream",
     "text": [
      "Shapes: \n",
      "(2887, 5625)\n",
      "(2887, 5625)\n",
      "(2887, 1)\n",
      "(2887, 1)\n",
      "(321, 5625)\n",
      "(321, 5625)\n",
      "(321, 1)\n",
      "(321, 1)\n"
     ]
    }
   ],
   "source": [
    "Xb1_tr = np.load('aug_data_split/Xb1_tr.npy')\n",
    "Xb2_tr = np.load('aug_data_split/Xb2_tr.npy')\n",
    "Y_tr = np.load('aug_data_split/Y_tr.npy')\n",
    "A_tr = np.load('aug_data_split/A_tr.npy')\n",
    "\n",
    "Xb1_te = np.load('aug_data_split/Xb1_te.npy')\n",
    "Xb2_te = np.load('aug_data_split/Xb2_te.npy')\n",
    "Y_te = np.load('aug_data_split/Y_te.npy')\n",
    "A_te = np.load('aug_data_split/A_te.npy')\n",
    "\n",
    "print('Shapes: ')\n",
    "print(Xb1_tr.shape)\n",
    "print(Xb2_tr.shape)\n",
    "print(Y_tr.shape)\n",
    "print(A_tr.shape)\n",
    "print(Xb1_te.shape)\n",
    "print(Xb2_te.shape)\n",
    "print(Y_te.shape)\n",
    "print(A_te.shape)"
   ]
  },
  {
   "cell_type": "markdown",
   "metadata": {},
   "source": [
    "### KNN on the incidence angles to predict the cluster the samples belong to\n",
    "\n",
    "As it can be seen in the below image, the labels fall into a pattern based on the incidence angles. \n",
    "<img src=\"inc_angle_labels.png\">\n",
    "\n",
    "The 2 clusters of interest are: \n",
    "1. The cluster corresponding to pure icebergs - All the groups where there are pure icebergs\n",
    "2. The cluster corresponding to a mix of icebergs and ships - All the groups where there are a mixture of ships and icebergs.\n",
    "\n",
    "In order to differentiate the clusters, we use KNN classifier. \n",
    "\n",
    "### Predicting cluster using KNN \n",
    "\n",
    "The classification is done by choosing an appropriate value of k_neighbours. If the top k_neighbours around a given incidence angle are ships, then it belongs to cluster 1, if the nearest neighbour is a ship then it belopngs to cluster 1, and if the number of nearest icebergs are more, then it belongs to cluster 0. "
   ]
  },
  {
   "cell_type": "code",
   "execution_count": 136,
   "metadata": {
    "collapsed": true
   },
   "outputs": [],
   "source": [
    "def create_cluster_labelss(A,Y,k_neighbours): \n",
    "   \n",
    "    cluster_labels = np.zeros((A.shape[0],A.shape[1]))\n",
    "\n",
    "    s = 0 \n",
    "    for samp in A: \n",
    "        difference = abs(samp - A).squeeze()\n",
    "        sort_difference = np.argsort(difference)\n",
    "\n",
    "        y_difference_sort = Y[sort_difference]\n",
    "        \n",
    "        topk = y_difference_sort[0:k_neighbours]\n",
    "  \n",
    "        ships = len([1 for l in topk if l == 0])\n",
    "        icebergs = len([1 for l in topk if l == 1])\n",
    "        \n",
    "        if ships > 0 and ships < icebergs:\n",
    "            cluster_labels[s]=1\n",
    "        elif(icebergs > ships):\n",
    "            cluster_labels[s]=0\n",
    "        else: \n",
    "            cluster_labels[s]=1\n",
    "        \n",
    "        s+=1 \n",
    "        \n",
    "    return cluster_labels \n",
    "\n",
    "#Main \n",
    "cluster_labels_tr =  create_cluster_labelss(A_tr, Y_tr, k_neighbours = 40)\n",
    "cluster_labels_te =  create_cluster_labelss(A_te, Y_te, k_neighbours = 40)"
   ]
  },
  {
   "cell_type": "code",
   "execution_count": 137,
   "metadata": {
    "collapsed": true
   },
   "outputs": [],
   "source": [
    "np.save('aug_data_split/C_tr.npy',cluster_labels_tr)\n",
    "np.save('aug_data_split/C_te.npy',cluster_labels_te)"
   ]
  },
  {
   "cell_type": "code",
   "execution_count": 141,
   "metadata": {},
   "outputs": [
    {
     "name": "stdout",
     "output_type": "stream",
     "text": [
      "Shapes: \n",
      "(2887, 1)\n",
      "(321, 1)\n"
     ]
    }
   ],
   "source": [
    "C_tr = np.load('aug_data_split/C_tr.npy')\n",
    "C_te = np.load('aug_data_split/C_te.npy')\n",
    "\n",
    "print('Shapes: ')\n",
    "print(C_tr.shape)\n",
    "print(C_te.shape)"
   ]
  },
  {
   "cell_type": "code",
   "execution_count": 142,
   "metadata": {},
   "outputs": [
    {
     "name": "stdout",
     "output_type": "stream",
     "text": [
      "Percentage of cluster 0 samples that are icebergs:  1.0\n",
      "Percentage of cluster 0 samples that are ships:  0.0\n",
      "Percentage of cluster 1 samples that are icebergs:  0.30319388214125054\n",
      "Percentage of cluster 1 samples that are ships:  0.6968061178587495\n"
     ]
    }
   ],
   "source": [
    "c0_labels = Y_tr[np.where(C_tr==0)]\n",
    "\n",
    "print('Percentage of cluster 0 samples that are icebergs: ',len(np.where(c0_labels==1)[0])/len(c0_labels))\n",
    "print('Percentage of cluster 0 samples that are ships: ',len(np.where(c0_labels==0)[0])/len(c0_labels))\n",
    "\n",
    "c1_labels = Y_tr[np.where(C_tr==1)]\n",
    "\n",
    "print('Percentage of cluster 1 samples that are icebergs: ',len(np.where(c1_labels==1)[0])/len(c1_labels))\n",
    "print('Percentage of cluster 1 samples that are ships: ',len(np.where(c1_labels==0)[0])/len(c1_labels))"
   ]
  },
  {
   "cell_type": "code",
   "execution_count": null,
   "metadata": {
    "collapsed": true
   },
   "outputs": [],
   "source": []
  }
 ],
 "metadata": {
  "kernelspec": {
   "display_name": "Python 3",
   "language": "python",
   "name": "python3"
  },
  "language_info": {
   "codemirror_mode": {
    "name": "ipython",
    "version": 3
   },
   "file_extension": ".py",
   "mimetype": "text/x-python",
   "name": "python",
   "nbconvert_exporter": "python",
   "pygments_lexer": "ipython3",
   "version": "3.6.3"
  }
 },
 "nbformat": 4,
 "nbformat_minor": 2
}
